{
 "cells": [
  {
   "cell_type": "code",
   "execution_count": 3,
   "metadata": {},
   "outputs": [],
   "source": [
    "import os\n",
    "from os import listdir\n",
    "from os.path import isfile, join\n",
    "import sys\n",
    "import pandas as pd\n",
    "import random\n",
    "import numpy as np\n",
    "import pickle as pkl\n",
    "from operator import add \n",
    "\n",
    "from sklearn.model_selection import train_test_split\n",
    "from sklearn.metrics import classification_report\n",
    "from sklearn.linear_model import LogisticRegression\n",
    "from sklearn.ensemble import RandomForestClassifier\n",
    "from sklearn import metrics\n",
    "from sklearn.naive_bayes import GaussianNB\n",
    "from sklearn.metrics import confusion_matrix\n",
    "from sklearn.model_selection import StratifiedKFold\n",
    "from sklearn.model_selection import KFold\n",
    "\n",
    "from sklearn.linear_model import LinearRegression, Lasso\n",
    "\n",
    "from utils import *\n",
    "\n",
    "import TCA"
   ]
  },
  {
   "cell_type": "code",
   "execution_count": 4,
   "metadata": {},
   "outputs": [],
   "source": [
    "def prepare_data(project, metric):\n",
    "    data_path = '../data/700/merged_data_original/' + project + '.csv'\n",
    "    data_df = pd.read_csv(data_path)\n",
    "    data_df.rename(columns = {'Unnamed: 0':'id'},inplace = True)\n",
    "\n",
    "    for col in ['id', 'commit_hash', 'release']:\n",
    "        if col in data_df.columns:\n",
    "            data_df = data_df.drop([col], axis = 1)\n",
    "    data_df = data_df.dropna()\n",
    "    y = data_df.Bugs\n",
    "    X = data_df.drop(['Bugs'],axis = 1)\n",
    "    if metric == 'process':\n",
    "        X = X[['file_la', 'file_ld', 'file_lt', 'file_age', 'file_ddev',\n",
    "    'file_nuc', 'own', 'minor', 'file_ndev', 'file_ncomm', 'file_adev',\n",
    "    'file_nadev', 'file_avg_nddev', 'file_avg_nadev', 'file_avg_ncomm',\n",
    "    'file_ns', 'file_exp', 'file_sexp', 'file_rexp', 'file_nd', 'file_sctr']]\n",
    "    elif metric == 'product':\n",
    "        X = X.drop(['file_la', 'file_ld', 'file_lt', 'file_age', 'file_ddev',\n",
    "    'file_nuc', 'own', 'minor', 'file_ndev', 'file_ncomm', 'file_adev',\n",
    "    'file_nadev', 'file_avg_nddev', 'file_avg_nadev', 'file_avg_ncomm',\n",
    "    'file_ns', 'file_exp', 'file_sexp', 'file_rexp', 'file_nd', 'file_sctr'],axis = 1)\n",
    "    else:\n",
    "        X = X\n",
    "    df = X\n",
    "    df['Bugs'] = y\n",
    "    return df"
   ]
  },
  {
   "cell_type": "code",
   "execution_count": 22,
   "metadata": {},
   "outputs": [],
   "source": [
    "all_data = pd.DataFrame()\n",
    "for i in [1,2,4,5,6,7,8]:\n",
    "    with open('results/TCA/process/tca_'+ str(i) +'.pkl', 'rb') as f:\n",
    "        data = pkl.load(f)\n",
    "    all_data = pd.concat([all_data,data], axis = 0)\n",
    "    all_data.reset_index(inplace = True, drop = True)"
   ]
  },
  {
   "cell_type": "code",
   "execution_count": 23,
   "metadata": {},
   "outputs": [
    {
     "data": {
      "text/html": [
       "<div>\n",
       "<style scoped>\n",
       "    .dataframe tbody tr th:only-of-type {\n",
       "        vertical-align: middle;\n",
       "    }\n",
       "\n",
       "    .dataframe tbody tr th {\n",
       "        vertical-align: top;\n",
       "    }\n",
       "\n",
       "    .dataframe thead th {\n",
       "        text-align: right;\n",
       "    }\n",
       "</style>\n",
       "<table border=\"1\" class=\"dataframe\">\n",
       "  <thead>\n",
       "    <tr style=\"text-align: right;\">\n",
       "      <th></th>\n",
       "      <th>source</th>\n",
       "      <th>target</th>\n",
       "      <th>recell</th>\n",
       "      <th>pf</th>\n",
       "      <th>g</th>\n",
       "      <th>f</th>\n",
       "      <th>pci_20</th>\n",
       "    </tr>\n",
       "  </thead>\n",
       "  <tbody>\n",
       "    <tr>\n",
       "      <th>0</th>\n",
       "      <td>SoLoader</td>\n",
       "      <td>ShapeOfView</td>\n",
       "      <td>0.43</td>\n",
       "      <td>0.47</td>\n",
       "      <td>0.45</td>\n",
       "      <td>0.43</td>\n",
       "      <td>0.78</td>\n",
       "    </tr>\n",
       "    <tr>\n",
       "      <th>1</th>\n",
       "      <td>SoLoader</td>\n",
       "      <td>swipe-button</td>\n",
       "      <td>0.57</td>\n",
       "      <td>0.14</td>\n",
       "      <td>0.61</td>\n",
       "      <td>0.53</td>\n",
       "      <td>0.44</td>\n",
       "    </tr>\n",
       "    <tr>\n",
       "      <th>2</th>\n",
       "      <td>SoLoader</td>\n",
       "      <td>SmoothProgressBar</td>\n",
       "      <td>0.34</td>\n",
       "      <td>0.08</td>\n",
       "      <td>0.39</td>\n",
       "      <td>0.46</td>\n",
       "      <td>0.59</td>\n",
       "    </tr>\n",
       "    <tr>\n",
       "      <th>3</th>\n",
       "      <td>SoLoader</td>\n",
       "      <td>JustAuth</td>\n",
       "      <td>0.30</td>\n",
       "      <td>0.26</td>\n",
       "      <td>0.34</td>\n",
       "      <td>0.34</td>\n",
       "      <td>0.89</td>\n",
       "    </tr>\n",
       "    <tr>\n",
       "      <th>4</th>\n",
       "      <td>SoLoader</td>\n",
       "      <td>Android-ReactiveLocation</td>\n",
       "      <td>0.22</td>\n",
       "      <td>0.16</td>\n",
       "      <td>0.26</td>\n",
       "      <td>0.30</td>\n",
       "      <td>0.62</td>\n",
       "    </tr>\n",
       "    <tr>\n",
       "      <th>...</th>\n",
       "      <td>...</td>\n",
       "      <td>...</td>\n",
       "      <td>...</td>\n",
       "      <td>...</td>\n",
       "      <td>...</td>\n",
       "      <td>...</td>\n",
       "      <td>...</td>\n",
       "    </tr>\n",
       "    <tr>\n",
       "      <th>53265</th>\n",
       "      <td>elasticsearch-jdbc</td>\n",
       "      <td>Shizuku</td>\n",
       "      <td>0.90</td>\n",
       "      <td>0.48</td>\n",
       "      <td>0.79</td>\n",
       "      <td>0.72</td>\n",
       "      <td>0.63</td>\n",
       "    </tr>\n",
       "    <tr>\n",
       "      <th>53266</th>\n",
       "      <td>elasticsearch-jdbc</td>\n",
       "      <td>BannerViewPager</td>\n",
       "      <td>0.87</td>\n",
       "      <td>0.69</td>\n",
       "      <td>0.64</td>\n",
       "      <td>0.72</td>\n",
       "      <td>0.73</td>\n",
       "    </tr>\n",
       "    <tr>\n",
       "      <th>53267</th>\n",
       "      <td>elasticsearch-jdbc</td>\n",
       "      <td>typescript-generator</td>\n",
       "      <td>0.95</td>\n",
       "      <td>0.18</td>\n",
       "      <td>0.92</td>\n",
       "      <td>0.90</td>\n",
       "      <td>0.57</td>\n",
       "    </tr>\n",
       "    <tr>\n",
       "      <th>53268</th>\n",
       "      <td>elasticsearch-jdbc</td>\n",
       "      <td>pojobuilder</td>\n",
       "      <td>0.98</td>\n",
       "      <td>0.39</td>\n",
       "      <td>0.87</td>\n",
       "      <td>0.92</td>\n",
       "      <td>0.66</td>\n",
       "    </tr>\n",
       "    <tr>\n",
       "      <th>53269</th>\n",
       "      <td>elasticsearch-jdbc</td>\n",
       "      <td>elasticsearch-jdbc</td>\n",
       "      <td>1.00</td>\n",
       "      <td>0.01</td>\n",
       "      <td>1.00</td>\n",
       "      <td>1.00</td>\n",
       "      <td>0.70</td>\n",
       "    </tr>\n",
       "  </tbody>\n",
       "</table>\n",
       "<p>53270 rows × 7 columns</p>\n",
       "</div>"
      ],
      "text/plain": [
       "                   source                    target  recell    pf     g     f  \\\n",
       "0                SoLoader               ShapeOfView    0.43  0.47  0.45  0.43   \n",
       "1                SoLoader              swipe-button    0.57  0.14  0.61  0.53   \n",
       "2                SoLoader         SmoothProgressBar    0.34  0.08  0.39  0.46   \n",
       "3                SoLoader                  JustAuth    0.30  0.26  0.34  0.34   \n",
       "4                SoLoader  Android-ReactiveLocation    0.22  0.16  0.26  0.30   \n",
       "...                   ...                       ...     ...   ...   ...   ...   \n",
       "53265  elasticsearch-jdbc                   Shizuku    0.90  0.48  0.79  0.72   \n",
       "53266  elasticsearch-jdbc           BannerViewPager    0.87  0.69  0.64  0.72   \n",
       "53267  elasticsearch-jdbc      typescript-generator    0.95  0.18  0.92  0.90   \n",
       "53268  elasticsearch-jdbc               pojobuilder    0.98  0.39  0.87  0.92   \n",
       "53269  elasticsearch-jdbc        elasticsearch-jdbc    1.00  0.01  1.00  1.00   \n",
       "\n",
       "       pci_20  \n",
       "0        0.78  \n",
       "1        0.44  \n",
       "2        0.59  \n",
       "3        0.89  \n",
       "4        0.62  \n",
       "...       ...  \n",
       "53265    0.63  \n",
       "53266    0.73  \n",
       "53267    0.57  \n",
       "53268    0.66  \n",
       "53269    0.70  \n",
       "\n",
       "[53270 rows x 7 columns]"
      ]
     },
     "execution_count": 23,
     "metadata": {},
     "output_type": "execute_result"
    }
   ],
   "source": [
    "all_data"
   ]
  },
  {
   "cell_type": "code",
   "execution_count": 24,
   "metadata": {},
   "outputs": [],
   "source": [
    "all_data.to_pickle('results/TCA/process/tca.pkl')"
   ]
  },
  {
   "cell_type": "code",
   "execution_count": 26,
   "metadata": {},
   "outputs": [],
   "source": [
    "prediction_df = pd.read_csv('results/mixed_data/level_2/fold_1/predicted_source_process.csv')\n",
    "prediction_df = prediction_df.drop(['Unnamed: 0'], axis = 1)\n",
    "prediction_df = prediction_df.sort_values(['trg'])"
   ]
  },
  {
   "cell_type": "code",
   "execution_count": 30,
   "metadata": {
    "scrolled": true
   },
   "outputs": [
    {
     "name": "stdout",
     "output_type": "stream",
     "text": [
      "Android-DirectoryChooser intellij-elixir 0.63\n",
      "Android-Rich-text-Editor intellij-elixir 0.63\n",
      "AndroidPerformanceMonitor intellij-elixir 0.64\n",
      "AndroidTraining intellij-elixir 0.57\n",
      "Calligraphy intellij-elixir 0.64\n",
      "CustomBottomSheetBehavior intellij-elixir 0.64\n",
      "DaggerMock intellij-elixir 0.64\n",
      "DataflowTemplates intellij-elixir 0.64\n",
      "FinestWebView-Android intellij-elixir 0.64\n",
      "FizzBuzzEnterpriseEdition intellij-elixir 0.64\n",
      "FloatingActionButton intellij-elixir 0.64\n",
      "HtmlSpanner intellij-elixir 0.64\n",
      "ListItemView intellij-elixir 0.64\n",
      "MultiImagePicker intellij-elixir 0.64\n",
      "MultiViewAdapter intellij-elixir 0.63\n",
      "OpenNoteScanner intellij-elixir 0.64\n",
      "Paper intellij-elixir 0.64\n",
      "QRCodeReaderView intellij-elixir 0.64\n",
      "Quicksql intellij-elixir 0.64\n",
      "RxBluetooth intellij-elixir 0.63\n",
      "RxJavaFX intellij-elixir 0.64\n",
      "SocialSdkLibrary intellij-elixir 0.64\n",
      "UrlImageViewHelper intellij-elixir 0.64\n",
      "WeatherLib intellij-elixir 0.64\n",
      "X2C intellij-elixir 0.64\n",
      "airline intellij-elixir 0.64\n",
      "android-contentprovider-generator intellij-elixir 0.64\n",
      "android-pdfview intellij-elixir 0.64\n",
      "android-rss intellij-elixir 0.64\n",
      "android-state intellij-elixir 0.64\n",
      "android-viewflow intellij-elixir 0.64\n",
      "brickhouse intellij-elixir 0.64\n",
      "browsermob-proxy intellij-elixir 0.63\n",
      "colorpicker intellij-elixir 0.64\n",
      "dashboard-demo intellij-elixir 0.64\n",
      "dynamic-load-apk intellij-elixir 0.64\n",
      "egads intellij-elixir 0.64\n",
      "elasticsearch-analysis-ik intellij-elixir 0.64\n",
      "esb-connectors intellij-elixir 0.65\n",
      "glide-transformations intellij-elixir 0.64\n",
      "google-oauth-java-client intellij-elixir 0.64\n",
      "gpmall intellij-elixir 0.64\n",
      "groupie intellij-elixir 0.64\n",
      "hbc intellij-elixir 0.64\n",
      "header-decor intellij-elixir 0.64\n",
      "hmily intellij-elixir 0.64\n",
      "hppc intellij-elixir 0.63\n",
      "ice intellij-elixir 0.63\n",
      "javafx-gradle-plugin intellij-elixir 0.64\n",
      "jdeferred intellij-elixir 0.64\n",
      "jgit-cookbook intellij-elixir 0.64\n",
      "linuxdeploy intellij-elixir 0.64\n",
      "material-calendar-view intellij-elixir 0.64\n",
      "mortar intellij-elixir 0.64\n",
      "ncalc intellij-elixir 0.61\n",
      "openhab1-addons intellij-elixir 0.64\n",
      "openstego intellij-elixir 0.64\n",
      "pacbot intellij-elixir 0.64\n",
      "pinned-section-listview intellij-elixir 0.64\n",
      "plantuml intellij-elixir 0.58\n",
      "plantuml-server intellij-elixir 0.64\n",
      "qmq intellij-elixir 0.64\n",
      "re2j intellij-elixir 0.64\n",
      "react-native-youtube intellij-elixir 0.64\n",
      "rebound intellij-elixir 0.64\n",
      "s3s3mirror intellij-elixir 0.64\n",
      "secure-preferences intellij-elixir 0.64\n",
      "sofa-tracer intellij-elixir 0.64\n",
      "spring-javaformat intellij-elixir 0.64\n",
      "spring-test-dbunit intellij-elixir 0.64\n",
      "sticky-headers-recyclerview intellij-elixir 0.64\n",
      "termux-api intellij-elixir 0.63\n",
      "the-app intellij-elixir 0.64\n",
      "tut-spring-boot-oauth2 intellij-elixir 0.64\n",
      "uber-apk-signer intellij-elixir 0.64\n",
      "vertx-sql-client intellij-elixir 0.63\n",
      "zkclient intellij-elixir 0.64\n"
     ]
    }
   ],
   "source": [
    "src_projects = []\n",
    "source_p = set()\n",
    "for trg in prediction_df.trg.unique():\n",
    "    sub_df = prediction_df[prediction_df['trg'] == trg]\n",
    "    sub_df.reset_index(inplace = True, drop = True)\n",
    "    print(trg,sub_df.iloc[sub_df.f.idxmax()].src, sub_df.f.max())\n",
    "    src_projects.append([trg,sub_df.iloc[sub_df.f.idxmax()].src,sub_df.iloc[sub_df.pci_20.idxmax()].src])\n",
    "    source_p.add(sub_df.iloc[sub_df.pci_20.idxmax()].src)"
   ]
  },
  {
   "cell_type": "code",
   "execution_count": 31,
   "metadata": {},
   "outputs": [
    {
     "data": {
      "text/plain": [
       "{'SoLoader'}"
      ]
     },
     "execution_count": 31,
     "metadata": {},
     "output_type": "execute_result"
    }
   ],
   "source": [
    "source_p"
   ]
  },
  {
   "cell_type": "code",
   "execution_count": 32,
   "metadata": {
    "scrolled": true
   },
   "outputs": [
    {
     "name": "stdout",
     "output_type": "stream",
     "text": [
      "Android-DirectoryChooser 0.46 0.28 0.5 0.49 0.71\n",
      "Android-Rich-text-Editor 0.37 0.35 0.4 0.26 0.81\n",
      "AndroidPerformanceMonitor 0.37 0.3 0.41 0.49 0.65\n",
      "AndroidTraining 0.59 0.48 0.57 0.38 0.44\n",
      "Calligraphy 0.62 0.62 0.55 0.46 0.79\n",
      "CustomBottomSheetBehavior 0.69 0.32 0.69 0.58 0.58\n",
      "DaggerMock 0.35 0.25 0.39 0.34 0.78\n",
      "DataflowTemplates 0.4 0.73 0.36 0.22 0.78\n"
     ]
    },
    {
     "ename": "KeyboardInterrupt",
     "evalue": "",
     "output_type": "error",
     "traceback": [
      "\u001b[0;31m---------------------------------------------------------------------------\u001b[0m",
      "\u001b[0;31mKeyboardInterrupt\u001b[0m                         Traceback (most recent call last)",
      "\u001b[0;32m<ipython-input-32-ebbabdb64365>\u001b[0m in \u001b[0;36m<module>\u001b[0;34m\u001b[0m\n\u001b[1;32m      1\u001b[0m \u001b[0mf1\u001b[0m \u001b[0;34m=\u001b[0m \u001b[0;34m[\u001b[0m\u001b[0;34m]\u001b[0m\u001b[0;34m\u001b[0m\u001b[0;34m\u001b[0m\u001b[0m\n\u001b[1;32m      2\u001b[0m \u001b[0;32mfor\u001b[0m \u001b[0mproject_pairs\u001b[0m \u001b[0;32min\u001b[0m \u001b[0msrc_projects\u001b[0m\u001b[0;34m:\u001b[0m\u001b[0;34m\u001b[0m\u001b[0;34m\u001b[0m\u001b[0m\n\u001b[0;32m----> 3\u001b[0;31m     \u001b[0mtgt_name\u001b[0m\u001b[0;34m,\u001b[0m \u001b[0mrecall\u001b[0m\u001b[0;34m,\u001b[0m \u001b[0mpf\u001b[0m\u001b[0;34m,\u001b[0m \u001b[0mg\u001b[0m\u001b[0;34m,\u001b[0m \u001b[0mf\u001b[0m\u001b[0;34m,\u001b[0m \u001b[0mpci_20\u001b[0m \u001b[0;34m=\u001b[0m \u001b[0mTCA\u001b[0m\u001b[0;34m.\u001b[0m\u001b[0mtca_plus_test\u001b[0m\u001b[0;34m(\u001b[0m\u001b[0mproject_pairs\u001b[0m\u001b[0;34m[\u001b[0m\u001b[0;36m1\u001b[0m\u001b[0;34m:\u001b[0m\u001b[0;34m]\u001b[0m\u001b[0;34m,\u001b[0m\u001b[0;34m[\u001b[0m\u001b[0mproject_pairs\u001b[0m\u001b[0;34m[\u001b[0m\u001b[0;36m0\u001b[0m\u001b[0;34m]\u001b[0m\u001b[0;34m]\u001b[0m\u001b[0;34m)\u001b[0m\u001b[0;34m\u001b[0m\u001b[0;34m\u001b[0m\u001b[0m\n\u001b[0m\u001b[1;32m      4\u001b[0m     \u001b[0mprint\u001b[0m\u001b[0;34m(\u001b[0m\u001b[0mtgt_name\u001b[0m\u001b[0;34m,\u001b[0m \u001b[0mrecall\u001b[0m\u001b[0;34m,\u001b[0m \u001b[0mpf\u001b[0m\u001b[0;34m,\u001b[0m \u001b[0mg\u001b[0m\u001b[0;34m,\u001b[0m \u001b[0mf\u001b[0m\u001b[0;34m,\u001b[0m \u001b[0mpci_20\u001b[0m\u001b[0;34m)\u001b[0m\u001b[0;34m\u001b[0m\u001b[0;34m\u001b[0m\u001b[0m\n\u001b[1;32m      5\u001b[0m     \u001b[0mf1\u001b[0m\u001b[0;34m.\u001b[0m\u001b[0mappend\u001b[0m\u001b[0;34m(\u001b[0m\u001b[0mf\u001b[0m\u001b[0;34m)\u001b[0m\u001b[0;34m\u001b[0m\u001b[0;34m\u001b[0m\u001b[0m\n",
      "\u001b[0;32m~/Documents/AI4SE/GENERAL/src/TCA.py\u001b[0m in \u001b[0;36mtca_plus_test\u001b[0;34m(source, target)\u001b[0m\n\u001b[1;32m    326\u001b[0m \u001b[0;34m\u001b[0m\u001b[0m\n\u001b[1;32m    327\u001b[0m             \u001b[0mnorm_src\u001b[0m\u001b[0;34m,\u001b[0m \u001b[0mnorm_tgt\u001b[0m \u001b[0;34m=\u001b[0m \u001b[0msmart_norm\u001b[0m\u001b[0;34m(\u001b[0m\u001b[0msrc\u001b[0m\u001b[0;34m,\u001b[0m \u001b[0mtgt\u001b[0m\u001b[0;34m,\u001b[0m \u001b[0mdcv_src\u001b[0m\u001b[0;34m,\u001b[0m \u001b[0mdcv_tgt\u001b[0m\u001b[0;34m)\u001b[0m\u001b[0;34m\u001b[0m\u001b[0;34m\u001b[0m\u001b[0m\n\u001b[0;32m--> 328\u001b[0;31m             \u001b[0m_train\u001b[0m\u001b[0;34m,\u001b[0m \u001b[0m_test\u001b[0m \u001b[0;34m=\u001b[0m \u001b[0mmap_transform\u001b[0m\u001b[0;34m(\u001b[0m\u001b[0mnorm_src\u001b[0m\u001b[0;34m,\u001b[0m \u001b[0mnorm_tgt\u001b[0m\u001b[0;34m)\u001b[0m\u001b[0;34m\u001b[0m\u001b[0;34m\u001b[0m\u001b[0m\n\u001b[0m\u001b[1;32m    329\u001b[0m \u001b[0;34m\u001b[0m\u001b[0m\n\u001b[1;32m    330\u001b[0m             \u001b[0mclf\u001b[0m \u001b[0;34m=\u001b[0m \u001b[0mcreate_model\u001b[0m\u001b[0;34m(\u001b[0m\u001b[0m_train\u001b[0m\u001b[0;34m)\u001b[0m\u001b[0;34m\u001b[0m\u001b[0;34m\u001b[0m\u001b[0m\n",
      "\u001b[0;32m~/Documents/AI4SE/GENERAL/src/TCA.py\u001b[0m in \u001b[0;36mmap_transform\u001b[0;34m(src, tgt, n_components)\u001b[0m\n\u001b[1;32m    142\u001b[0m \u001b[0;34m\u001b[0m\u001b[0m\n\u001b[1;32m    143\u001b[0m     \u001b[0mcol_name\u001b[0m \u001b[0;34m=\u001b[0m \u001b[0;34m[\u001b[0m\u001b[0;34m\"Col_\"\u001b[0m \u001b[0;34m+\u001b[0m \u001b[0mstr\u001b[0m\u001b[0;34m(\u001b[0m\u001b[0mi\u001b[0m\u001b[0;34m)\u001b[0m \u001b[0;32mfor\u001b[0m \u001b[0mi\u001b[0m \u001b[0;32min\u001b[0m \u001b[0mrange\u001b[0m\u001b[0;34m(\u001b[0m\u001b[0mn_components\u001b[0m\u001b[0;34m)\u001b[0m\u001b[0;34m]\u001b[0m\u001b[0;34m\u001b[0m\u001b[0;34m\u001b[0m\u001b[0m\n\u001b[0;32m--> 144\u001b[0;31m     \u001b[0mx0\u001b[0m \u001b[0;34m=\u001b[0m \u001b[0mpd\u001b[0m\u001b[0;34m.\u001b[0m\u001b[0mDataFrame\u001b[0m\u001b[0;34m(\u001b[0m\u001b[0mget_kernel_matrix\u001b[0m\u001b[0;34m(\u001b[0m\u001b[0mS\u001b[0m\u001b[0;34m,\u001b[0m \u001b[0mn_components\u001b[0m\u001b[0;34m)\u001b[0m\u001b[0;34m,\u001b[0m \u001b[0mcolumns\u001b[0m\u001b[0;34m=\u001b[0m\u001b[0mcol_name\u001b[0m\u001b[0;34m)\u001b[0m\u001b[0;34m\u001b[0m\u001b[0;34m\u001b[0m\u001b[0m\n\u001b[0m\u001b[1;32m    145\u001b[0m     \u001b[0my0\u001b[0m \u001b[0;34m=\u001b[0m \u001b[0mpd\u001b[0m\u001b[0;34m.\u001b[0m\u001b[0mDataFrame\u001b[0m\u001b[0;34m(\u001b[0m\u001b[0mget_kernel_matrix\u001b[0m\u001b[0;34m(\u001b[0m\u001b[0mT\u001b[0m\u001b[0;34m,\u001b[0m \u001b[0mn_components\u001b[0m\u001b[0;34m)\u001b[0m\u001b[0;34m,\u001b[0m \u001b[0mcolumns\u001b[0m\u001b[0;34m=\u001b[0m\u001b[0mcol_name\u001b[0m\u001b[0;34m)\u001b[0m\u001b[0;34m\u001b[0m\u001b[0;34m\u001b[0m\u001b[0m\n\u001b[1;32m    146\u001b[0m     \u001b[0;31m# set_trace()\u001b[0m\u001b[0;34m\u001b[0m\u001b[0;34m\u001b[0m\u001b[0;34m\u001b[0m\u001b[0m\n",
      "\u001b[0;32m~/Documents/AI4SE/GENERAL/src/TCA.py\u001b[0m in \u001b[0;36mget_kernel_matrix\u001b[0;34m(dframe, n_dim)\u001b[0m\n\u001b[1;32m    123\u001b[0m     \u001b[0mker\u001b[0m \u001b[0;34m=\u001b[0m \u001b[0mKinterface\u001b[0m\u001b[0;34m(\u001b[0m\u001b[0mdata\u001b[0m\u001b[0;34m=\u001b[0m\u001b[0mdframe\u001b[0m\u001b[0;34m.\u001b[0m\u001b[0mvalues\u001b[0m\u001b[0;34m,\u001b[0m \u001b[0mkernel\u001b[0m\u001b[0;34m=\u001b[0m\u001b[0mlinear_kernel\u001b[0m\u001b[0;34m)\u001b[0m\u001b[0;34m\u001b[0m\u001b[0;34m\u001b[0m\u001b[0m\n\u001b[1;32m    124\u001b[0m     \u001b[0mmodel\u001b[0m \u001b[0;34m=\u001b[0m \u001b[0mICD\u001b[0m\u001b[0;34m(\u001b[0m\u001b[0mrank\u001b[0m\u001b[0;34m=\u001b[0m\u001b[0mn_dim\u001b[0m\u001b[0;34m)\u001b[0m\u001b[0;34m\u001b[0m\u001b[0;34m\u001b[0m\u001b[0m\n\u001b[0;32m--> 125\u001b[0;31m     \u001b[0mmodel\u001b[0m\u001b[0;34m.\u001b[0m\u001b[0mfit\u001b[0m\u001b[0;34m(\u001b[0m\u001b[0mker\u001b[0m\u001b[0;34m)\u001b[0m\u001b[0;34m\u001b[0m\u001b[0;34m\u001b[0m\u001b[0m\n\u001b[0m\u001b[1;32m    126\u001b[0m     \u001b[0mg_nystrom\u001b[0m \u001b[0;34m=\u001b[0m \u001b[0mmodel\u001b[0m\u001b[0;34m.\u001b[0m\u001b[0mG\u001b[0m\u001b[0;34m\u001b[0m\u001b[0;34m\u001b[0m\u001b[0m\n\u001b[1;32m    127\u001b[0m     \u001b[0;32mreturn\u001b[0m \u001b[0mg_nystrom\u001b[0m\u001b[0;34m\u001b[0m\u001b[0;34m\u001b[0m\u001b[0m\n",
      "\u001b[0;32m~/Documents/AI4SE/GENERAL/src/mklaren/projection/icd.py\u001b[0m in \u001b[0;36mfit\u001b[0;34m(self, K)\u001b[0m\n\u001b[1;32m     56\u001b[0m             \u001b[0mG\u001b[0m\u001b[0;34m[\u001b[0m\u001b[0mi\u001b[0m\u001b[0;34m,\u001b[0m \u001b[0mk\u001b[0m\u001b[0;34m]\u001b[0m \u001b[0;34m=\u001b[0m \u001b[0mnp\u001b[0m\u001b[0;34m.\u001b[0m\u001b[0msqrt\u001b[0m\u001b[0;34m(\u001b[0m\u001b[0mD\u001b[0m\u001b[0;34m[\u001b[0m\u001b[0mi\u001b[0m\u001b[0;34m]\u001b[0m\u001b[0;34m)\u001b[0m\u001b[0;34m\u001b[0m\u001b[0;34m\u001b[0m\u001b[0m\n\u001b[1;32m     57\u001b[0m             \u001b[0;31m# print(G[i, :])\u001b[0m\u001b[0;34m\u001b[0m\u001b[0;34m\u001b[0m\u001b[0;34m\u001b[0m\u001b[0m\n\u001b[0;32m---> 58\u001b[0;31m             \u001b[0mG\u001b[0m\u001b[0;34m[\u001b[0m\u001b[0mj\u001b[0m\u001b[0;34m,\u001b[0m \u001b[0mk\u001b[0m\u001b[0;34m]\u001b[0m \u001b[0;34m=\u001b[0m \u001b[0;36m1.0\u001b[0m \u001b[0;34m/\u001b[0m \u001b[0mG\u001b[0m\u001b[0;34m[\u001b[0m\u001b[0mi\u001b[0m\u001b[0;34m,\u001b[0m \u001b[0mk\u001b[0m\u001b[0;34m]\u001b[0m \u001b[0;34m*\u001b[0m \u001b[0;34m(\u001b[0m\u001b[0mK\u001b[0m\u001b[0;34m[\u001b[0m\u001b[0mj\u001b[0m\u001b[0;34m,\u001b[0m \u001b[0mi\u001b[0m\u001b[0;34m]\u001b[0m \u001b[0;34m-\u001b[0m \u001b[0mG\u001b[0m\u001b[0;34m[\u001b[0m\u001b[0mj\u001b[0m\u001b[0;34m,\u001b[0m \u001b[0;34m:\u001b[0m\u001b[0;34m]\u001b[0m\u001b[0;34m.\u001b[0m\u001b[0mdot\u001b[0m\u001b[0;34m(\u001b[0m\u001b[0mG\u001b[0m\u001b[0;34m[\u001b[0m\u001b[0mi\u001b[0m\u001b[0;34m,\u001b[0m \u001b[0;34m:\u001b[0m\u001b[0;34m]\u001b[0m\u001b[0;34m.\u001b[0m\u001b[0mT\u001b[0m\u001b[0;34m)\u001b[0m\u001b[0;34m)\u001b[0m\u001b[0;34m\u001b[0m\u001b[0;34m\u001b[0m\u001b[0m\n\u001b[0m\u001b[1;32m     59\u001b[0m             \u001b[0mD\u001b[0m\u001b[0;34m[\u001b[0m\u001b[0mj\u001b[0m\u001b[0;34m]\u001b[0m \u001b[0;34m=\u001b[0m \u001b[0mD\u001b[0m\u001b[0;34m[\u001b[0m\u001b[0mj\u001b[0m\u001b[0;34m]\u001b[0m \u001b[0;34m-\u001b[0m \u001b[0;34m(\u001b[0m\u001b[0mG\u001b[0m\u001b[0;34m[\u001b[0m\u001b[0mj\u001b[0m\u001b[0;34m,\u001b[0m \u001b[0mk\u001b[0m\u001b[0;34m]\u001b[0m\u001b[0;34m**\u001b[0m\u001b[0;36m2\u001b[0m\u001b[0;34m)\u001b[0m\u001b[0;34m.\u001b[0m\u001b[0mravel\u001b[0m\u001b[0;34m(\u001b[0m\u001b[0;34m)\u001b[0m\u001b[0;34m\u001b[0m\u001b[0;34m\u001b[0m\u001b[0m\n\u001b[1;32m     60\u001b[0m \u001b[0;34m\u001b[0m\u001b[0m\n",
      "\u001b[0;31mKeyboardInterrupt\u001b[0m: "
     ]
    }
   ],
   "source": [
    "f1 = []\n",
    "for project_pairs in src_projects:\n",
    "    tgt_name, recall, pf, g, f, pci_20 = TCA.tca_plus_test(project_pairs[1:],[project_pairs[0]])\n",
    "    print(tgt_name, recall, pf, g, f, pci_20)\n",
    "    f1.append(f)"
   ]
  },
  {
   "cell_type": "code",
   "execution_count": 20,
   "metadata": {
    "scrolled": true
   },
   "outputs": [
    {
     "data": {
      "text/plain": [
       "[0.65,\n",
       " 0.08,\n",
       " 0.58,\n",
       " 0.49,\n",
       " 0.26,\n",
       " 0.11,\n",
       " 0.18,\n",
       " 0.51,\n",
       " 0.44,\n",
       " 0.03,\n",
       " 0.32,\n",
       " 0.83,\n",
       " 0.37,\n",
       " 0.39,\n",
       " 0.39,\n",
       " 0.29,\n",
       " 0.41,\n",
       " 0.26,\n",
       " 0.24,\n",
       " 0.44,\n",
       " 0.18,\n",
       " 0.42,\n",
       " 0.34,\n",
       " 0.22,\n",
       " 0.42,\n",
       " 0.33,\n",
       " 0.59,\n",
       " 0.5,\n",
       " 0.02,\n",
       " 0.49,\n",
       " 0.29,\n",
       " 0.49,\n",
       " 0.62,\n",
       " 0.33,\n",
       " 0.17,\n",
       " 0.21,\n",
       " 0.39,\n",
       " 0.41,\n",
       " 0.32,\n",
       " 0.34,\n",
       " 0.44,\n",
       " 0.0,\n",
       " 0.29,\n",
       " 0.44,\n",
       " 0.47,\n",
       " 0.02,\n",
       " 0.83,\n",
       " 0.45,\n",
       " 0.41,\n",
       " 0.6,\n",
       " 0.37,\n",
       " 0.5,\n",
       " 0.17,\n",
       " 0.65,\n",
       " 0.39,\n",
       " 0.06,\n",
       " 0.49,\n",
       " 0.61,\n",
       " 0.1,\n",
       " 0.3,\n",
       " 0.4,\n",
       " 0.28,\n",
       " 0.51,\n",
       " 0.41,\n",
       " 0.03,\n",
       " 0.44,\n",
       " 0.23,\n",
       " 0.29,\n",
       " 0.3,\n",
       " 0.42,\n",
       " 0.57,\n",
       " 0.29,\n",
       " 0.53,\n",
       " 0.33,\n",
       " 0.34,\n",
       " 0.28,\n",
       " 0.24]"
      ]
     },
     "execution_count": 20,
     "metadata": {},
     "output_type": "execute_result"
    }
   ],
   "source": [
    "f1"
   ]
  },
  {
   "cell_type": "code",
   "execution_count": null,
   "metadata": {},
   "outputs": [],
   "source": [
    "def _replaceitem(x):\n",
    "    if x >= 0.5:\n",
    "        return 0.5\n",
    "    else:\n",
    "        return 0.0\n",
    "\n",
    "myList = [0,0.8,0.77]\n",
    "a = [x / 2 for x in myList]\n",
    "b = list(map(_replaceitem, myList))"
   ]
  },
  {
   "cell_type": "code",
   "execution_count": null,
   "metadata": {},
   "outputs": [],
   "source": [
    "c = list(map(add, a, b))"
   ]
  },
  {
   "cell_type": "code",
   "execution_count": null,
   "metadata": {},
   "outputs": [],
   "source": [
    "c"
   ]
  },
  {
   "cell_type": "code",
   "execution_count": null,
   "metadata": {},
   "outputs": [],
   "source": [
    "def _replaceitem2(x):\n",
    "    if x >= 0.5:\n",
    "        return 1\n",
    "    else:\n",
    "        return 0"
   ]
  },
  {
   "cell_type": "code",
   "execution_count": null,
   "metadata": {},
   "outputs": [],
   "source": [
    "z = list(map(_replaceitem2, c))\n",
    "z"
   ]
  },
  {
   "cell_type": "code",
   "execution_count": null,
   "metadata": {},
   "outputs": [],
   "source": [
    "data = pd.read_csv('data.csv')\n",
    "data = data.drop('Unnamed: 0', axis = 1)"
   ]
  },
  {
   "cell_type": "code",
   "execution_count": null,
   "metadata": {},
   "outputs": [],
   "source": [
    "train_y = data.f\n",
    "train_X = data.drop('f', axis = 1)"
   ]
  },
  {
   "cell_type": "code",
   "execution_count": null,
   "metadata": {},
   "outputs": [],
   "source": [
    "from sklearn.linear_model import LinearRegression, Lasso\n",
    "from sklearn.svm import SVR"
   ]
  },
  {
   "cell_type": "code",
   "execution_count": null,
   "metadata": {},
   "outputs": [],
   "source": [
    "clf = SVR()\n",
    "clf.fit(train_X,train_y)"
   ]
  },
  {
   "cell_type": "code",
   "execution_count": null,
   "metadata": {},
   "outputs": [],
   "source": []
  }
 ],
 "metadata": {
  "kernelspec": {
   "display_name": "Python 3",
   "language": "python",
   "name": "python3"
  },
  "language_info": {
   "codemirror_mode": {
    "name": "ipython",
    "version": 3
   },
   "file_extension": ".py",
   "mimetype": "text/x-python",
   "name": "python",
   "nbconvert_exporter": "python",
   "pygments_lexer": "ipython3",
   "version": "3.8.3"
  }
 },
 "nbformat": 4,
 "nbformat_minor": 4
}
